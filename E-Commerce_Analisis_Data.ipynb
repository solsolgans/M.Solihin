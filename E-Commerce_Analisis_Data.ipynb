{
  "cells": [
    {
      "cell_type": "markdown",
      "metadata": {
        "id": "H9wADwK78DCz"
      },
      "source": [
        "# Proyek Analisis Data: [Input Nama Dataset]\n",
        "- **Nama:** Muhammad Solihin\n",
        "- **Email:** soleh.pekan2017@gmail.com\n",
        "- **ID Dicoding:** MC223D5Y1069"
      ]
    },
    {
      "cell_type": "markdown",
      "metadata": {
        "id": "eE0raob58DC0"
      },
      "source": [
        "## Menentukan Pertanyaan Bisnis"
      ]
    },
    {
      "cell_type": "markdown",
      "metadata": {
        "id": "GmQeQ5YF8DC0"
      },
      "source": [
        "\n",
        "\n",
        "1. Produk apa yang paling banyak dibeli oleh pelanggan, dan bagaimana tren penjualannya dari waktu ke waktu?\n",
        "\n",
        "2. Di wilayah mana saja pelanggan paling banyak melakukan pembelian?\n",
        "\n",
        "3. Bagaimana hubungan antara rating review pelanggan dan jumlah pesanan ulang (repeat orders)?\n",
        "\n",
        "4. Apakah keterlambatan pengiriman mempengaruhi rating ulasan pelanggan?\n",
        "\n"
      ]
    },
    {
      "cell_type": "markdown",
      "metadata": {
        "id": "H-z4QGlO8DC1"
      },
      "source": [
        "Import Semua Packages/Library yang Digunakan\n",
        "\n",
        "\n",
        "\n"
      ]
    },
    {
      "cell_type": "code",
      "execution_count": 36,
      "metadata": {
        "id": "FVYwaObI8DC1"
      },
      "outputs": [],
      "source": [
        "import numpy as np\n",
        "import pandas as pd\n",
        "import matplotlib.pyplot as plt\n",
        "import seaborn as sns\n",
        "import urllib\n",
        "import gdown"
      ]
    },
    {
      "cell_type": "markdown",
      "metadata": {
        "id": "h_Sh51Xy8DC1"
      },
      "source": [
        "## Data Wrangling"
      ]
    },
    {
      "cell_type": "markdown",
      "metadata": {
        "id": "sXU2GBYu8DC1"
      },
      "source": [
        "### Gathering Data\n",
        "\n",
        "Data yang digunakan adalah E-Commerce Public Dataset yang terdiri dari data geolocation, orders, order items, order reviews, customers, order payments, products, sellers, dan product category.\n",
        "\n",
        "\n"
      ]
    },
    {
      "cell_type": "code",
      "execution_count": 37,
      "metadata": {
        "id": "zjCBk1BI8DC1",
        "colab": {
          "base_uri": "https://localhost:8080/"
        },
        "outputId": "62909cd0-6723-4bf3-95de-73d298b0e864"
      },
      "outputs": [
        {
          "output_type": "stream",
          "name": "stderr",
          "text": [
            "Downloading...\n",
            "From: https://drive.google.com/uc?id=1rYMxelhTadgWY47zjoFZN3gslbEOZZj_\n",
            "To: /content/geolocation_dataset.csv\n",
            "100%|██████████| 61.3M/61.3M [00:00<00:00, 64.6MB/s]\n"
          ]
        },
        {
          "output_type": "stream",
          "name": "stdout",
          "text": [
            "   geolocation_zip_code_prefix  geolocation_lat  geolocation_lng  \\\n",
            "0                         1037       -23.545621       -46.639292   \n",
            "1                         1046       -23.546081       -46.644820   \n",
            "2                         1046       -23.546129       -46.642951   \n",
            "3                         1041       -23.544392       -46.639499   \n",
            "4                         1035       -23.541578       -46.641607   \n",
            "\n",
            "  geolocation_city geolocation_state  \n",
            "0        sao paulo                SP  \n",
            "1        sao paulo                SP  \n",
            "2        sao paulo                SP  \n",
            "3        sao paulo                SP  \n",
            "4        sao paulo                SP  \n"
          ]
        }
      ],
      "source": [
        "url_geoloc = \"https://drive.google.com/uc?id=1rYMxelhTadgWY47zjoFZN3gslbEOZZj_\"\n",
        "gdown.download(url_geoloc, \"geolocation_dataset.csv\", quiet=False)\n",
        "geolocation_df = pd.read_csv(\"geolocation_dataset.csv\")\n",
        "print(geolocation_df.head())"
      ]
    },
    {
      "cell_type": "code",
      "execution_count": 38,
      "metadata": {
        "colab": {
          "base_uri": "https://localhost:8080/"
        },
        "id": "BimXFn-K8DWF",
        "outputId": "a096b44e-e1aa-4375-c80f-8ccafcb17799"
      },
      "outputs": [
        {
          "output_type": "stream",
          "name": "stderr",
          "text": [
            "Downloading...\n",
            "From: https://drive.google.com/uc?id=1xF5BlF2gKryr0UiJ4T1dyZk0Naf-irob\n",
            "To: /content/orders.csv\n",
            "100%|██████████| 17.7M/17.7M [00:00<00:00, 51.3MB/s]\n"
          ]
        },
        {
          "output_type": "stream",
          "name": "stdout",
          "text": [
            "                           order_id                       customer_id  \\\n",
            "0  e481f51cbdc54678b7cc49136f2d6af7  9ef432eb6251297304e76186b10a928d   \n",
            "1  53cdb2fc8bc7dce0b6741e2150273451  b0830fb4747a6c6d20dea0b8c802d7ef   \n",
            "2  47770eb9100c2d0c44946d9cf07ec65d  41ce2a54c0b03bf3443c3d931a367089   \n",
            "3  949d5b44dbf5de918fe9c16f97b45f8a  f88197465ea7920adcdbec7375364d82   \n",
            "4  ad21c59c0840e6cb83a9ceb5573f8159  8ab97904e6daea8866dbdbc4fb7aad2c   \n",
            "\n",
            "  order_status order_purchase_timestamp    order_approved_at  \\\n",
            "0    delivered      2017-10-02 10:56:33  2017-10-02 11:07:15   \n",
            "1    delivered      2018-07-24 20:41:37  2018-07-26 03:24:27   \n",
            "2    delivered      2018-08-08 08:38:49  2018-08-08 08:55:23   \n",
            "3    delivered      2017-11-18 19:28:06  2017-11-18 19:45:59   \n",
            "4    delivered      2018-02-13 21:18:39  2018-02-13 22:20:29   \n",
            "\n",
            "  order_delivered_carrier_date order_delivered_customer_date  \\\n",
            "0          2017-10-04 19:55:00           2017-10-10 21:25:13   \n",
            "1          2018-07-26 14:31:00           2018-08-07 15:27:45   \n",
            "2          2018-08-08 13:50:00           2018-08-17 18:06:29   \n",
            "3          2017-11-22 13:39:59           2017-12-02 00:28:42   \n",
            "4          2018-02-14 19:46:34           2018-02-16 18:17:02   \n",
            "\n",
            "  order_estimated_delivery_date  \n",
            "0           2017-10-18 00:00:00  \n",
            "1           2018-08-13 00:00:00  \n",
            "2           2018-09-04 00:00:00  \n",
            "3           2017-12-15 00:00:00  \n",
            "4           2018-02-26 00:00:00  \n"
          ]
        }
      ],
      "source": [
        "url_orders = \"https://drive.google.com/uc?id=1xF5BlF2gKryr0UiJ4T1dyZk0Naf-irob\"\n",
        "gdown.download(url_orders, \"orders.csv\", quiet=False)\n",
        "orders_df = pd.read_csv(\"orders.csv\")\n",
        "print(orders_df.head())"
      ]
    },
    {
      "cell_type": "code",
      "execution_count": 39,
      "metadata": {
        "colab": {
          "base_uri": "https://localhost:8080/"
        },
        "id": "xoBCkj3E8Dj3",
        "outputId": "a39a57f9-b684-4260-eef5-3e7aaad1614c"
      },
      "outputs": [
        {
          "output_type": "stream",
          "name": "stderr",
          "text": [
            "Downloading...\n",
            "From: https://drive.google.com/uc?id=1bbiSGtezbR97_SXRg6r201u4IPM37-Yc\n",
            "To: /content/order_items.csv\n",
            "100%|██████████| 15.4M/15.4M [00:00<00:00, 28.7MB/s]\n"
          ]
        },
        {
          "output_type": "stream",
          "name": "stdout",
          "text": [
            "                           order_id  order_item_id  \\\n",
            "0  00010242fe8c5a6d1ba2dd792cb16214              1   \n",
            "1  00018f77f2f0320c557190d7a144bdd3              1   \n",
            "2  000229ec398224ef6ca0657da4fc703e              1   \n",
            "3  00024acbcdf0a6daa1e931b038114c75              1   \n",
            "4  00042b26cf59d7ce69dfabb4e55b4fd9              1   \n",
            "\n",
            "                         product_id                         seller_id  \\\n",
            "0  4244733e06e7ecb4970a6e2683c13e61  48436dade18ac8b2bce089ec2a041202   \n",
            "1  e5f2d52b802189ee658865ca93d83a8f  dd7ddc04e1b6c2c614352b383efe2d36   \n",
            "2  c777355d18b72b67abbeef9df44fd0fd  5b51032eddd242adc84c38acab88f23d   \n",
            "3  7634da152a4610f1595efa32f14722fc  9d7a1d34a5052409006425275ba1c2b4   \n",
            "4  ac6c3623068f30de03045865e4e10089  df560393f3a51e74553ab94004ba5c87   \n",
            "\n",
            "   shipping_limit_date   price  freight_value  \n",
            "0  2017-09-19 09:45:35   58.90          13.29  \n",
            "1  2017-05-03 11:05:13  239.90          19.93  \n",
            "2  2018-01-18 14:48:30  199.00          17.87  \n",
            "3  2018-08-15 10:10:18   12.99          12.79  \n",
            "4  2017-02-13 13:57:51  199.90          18.14  \n"
          ]
        }
      ],
      "source": [
        "url_order_items = \"https://drive.google.com/uc?id=1bbiSGtezbR97_SXRg6r201u4IPM37-Yc\"\n",
        "gdown.download(url_order_items, \"order_items.csv\", quiet=False)\n",
        "order_items_df = pd.read_csv(\"order_items.csv\")\n",
        "print(order_items_df.head())"
      ]
    },
    {
      "cell_type": "code",
      "execution_count": 40,
      "metadata": {
        "colab": {
          "base_uri": "https://localhost:8080/"
        },
        "id": "6GvKAYqK8Dv5",
        "outputId": "b5423795-2a29-49e0-8425-f63fb469ee44"
      },
      "outputs": [
        {
          "output_type": "stream",
          "name": "stderr",
          "text": [
            "Downloading...\n",
            "From: https://drive.google.com/uc?id=1sqmrpSC55RDMG1rSwmQOoxM0nt4uEYKY\n",
            "To: /content/order_reviews.csv\n",
            "100%|██████████| 14.5M/14.5M [00:00<00:00, 24.4MB/s]\n"
          ]
        },
        {
          "output_type": "stream",
          "name": "stdout",
          "text": [
            "                          review_id                          order_id  \\\n",
            "0  7bc2406110b926393aa56f80a40eba40  73fc7af87114b39712e6da79b0a377eb   \n",
            "1  80e641a11e56f04c1ad469d5645fdfde  a548910a1c6147796b98fdf73dbeba33   \n",
            "2  228ce5500dc1d8e020d8d1322874b6f0  f9e4b658b201a9f2ecdecbb34bed034b   \n",
            "3  e64fb393e7b32834bb789ff8bb30750e  658677c97b385a9be170737859d3511b   \n",
            "4  f7c4243c7fe1938f181bec41a392bdeb  8e6bfb81e283fa7e4f11123a3fb894f1   \n",
            "\n",
            "   review_score review_comment_title  \\\n",
            "0             4                  NaN   \n",
            "1             5                  NaN   \n",
            "2             5                  NaN   \n",
            "3             5                  NaN   \n",
            "4             5                  NaN   \n",
            "\n",
            "                              review_comment_message review_creation_date  \\\n",
            "0                                                NaN  2018-01-18 00:00:00   \n",
            "1                                                NaN  2018-03-10 00:00:00   \n",
            "2                                                NaN  2018-02-17 00:00:00   \n",
            "3              Recebi bem antes do prazo estipulado.  2017-04-21 00:00:00   \n",
            "4  Parabéns lojas lannister adorei comprar pela I...  2018-03-01 00:00:00   \n",
            "\n",
            "  review_answer_timestamp  \n",
            "0     2018-01-18 21:46:59  \n",
            "1     2018-03-11 03:05:13  \n",
            "2     2018-02-18 14:36:24  \n",
            "3     2017-04-21 22:02:06  \n",
            "4     2018-03-02 10:26:53  \n"
          ]
        }
      ],
      "source": [
        "url_order_reviews = \"https://drive.google.com/uc?id=1sqmrpSC55RDMG1rSwmQOoxM0nt4uEYKY\"\n",
        "gdown.download(url_order_reviews, \"order_reviews.csv\", quiet=False)\n",
        "order_reviews_df = pd.read_csv(\"order_reviews.csv\")\n",
        "print(order_reviews_df.head())"
      ]
    },
    {
      "cell_type": "code",
      "execution_count": 41,
      "metadata": {
        "colab": {
          "base_uri": "https://localhost:8080/"
        },
        "id": "pyREV8n_CYmp",
        "outputId": "883b5b0e-2a95-4f6b-a810-8f1902b548ca"
      },
      "outputs": [
        {
          "output_type": "stream",
          "name": "stderr",
          "text": [
            "Downloading...\n",
            "From: https://drive.google.com/uc?id=1JMWkiBoyfCOPGi5Th1CxMA2D7PCsvf8K\n",
            "To: /content/customers.csv\n",
            "100%|██████████| 9.03M/9.03M [00:00<00:00, 40.3MB/s]\n"
          ]
        },
        {
          "output_type": "stream",
          "name": "stdout",
          "text": [
            "                        customer_id                customer_unique_id  \\\n",
            "0  06b8999e2fba1a1fbc88172c00ba8bc7  861eff4711a542e4b93843c6dd7febb0   \n",
            "1  18955e83d337fd6b2def6b18a428ac77  290c77bc529b7ac935b93aa66c333dc3   \n",
            "2  4e7b3e00288586ebd08712fdd0374a03  060e732b5b29e8181a18229c7b0b2b5e   \n",
            "3  b2b6027bc5c5109e529d4dc6358b12c3  259dac757896d24d7702b9acbbff3f3c   \n",
            "4  4f2d8ab171c80ec8364f7c12e35b23ad  345ecd01c38d18a9036ed96c73b8d066   \n",
            "\n",
            "   customer_zip_code_prefix          customer_city customer_state  \n",
            "0                     14409                 franca             SP  \n",
            "1                      9790  sao bernardo do campo             SP  \n",
            "2                      1151              sao paulo             SP  \n",
            "3                      8775        mogi das cruzes             SP  \n",
            "4                     13056               campinas             SP  \n"
          ]
        }
      ],
      "source": [
        "url_customers = \"https://drive.google.com/uc?id=1JMWkiBoyfCOPGi5Th1CxMA2D7PCsvf8K\"\n",
        "gdown.download(url_customers, \"customers.csv\", quiet=False)\n",
        "customers_df = pd.read_csv(\"customers.csv\")\n",
        "print(customers_df.head())"
      ]
    },
    {
      "cell_type": "code",
      "execution_count": 42,
      "metadata": {
        "colab": {
          "base_uri": "https://localhost:8080/"
        },
        "id": "hO7bNe5vCYxD",
        "outputId": "54b53112-8813-458f-cbab-5db27525c7db"
      },
      "outputs": [
        {
          "output_type": "stream",
          "name": "stderr",
          "text": [
            "Downloading...\n",
            "From: https://drive.google.com/uc?id=1G3jIWRXmlon5pej5-cktpIuL-vs65g6j\n",
            "To: /content/order_payments.csv\n",
            "100%|██████████| 5.78M/5.78M [00:00<00:00, 60.4MB/s]\n"
          ]
        },
        {
          "output_type": "stream",
          "name": "stdout",
          "text": [
            "                           order_id  payment_sequential payment_type  \\\n",
            "0  b81ef226f3fe1789b1e8b2acac839d17                   1  credit_card   \n",
            "1  a9810da82917af2d9aefd1278f1dcfa0                   1  credit_card   \n",
            "2  25e8ea4e93396b6fa0d3dd708e76c1bd                   1  credit_card   \n",
            "3  ba78997921bbcdc1373bb41e913ab953                   1  credit_card   \n",
            "4  42fdf880ba16b47b59251dd489d4441a                   1  credit_card   \n",
            "\n",
            "   payment_installments  payment_value  \n",
            "0                     8          99.33  \n",
            "1                     1          24.39  \n",
            "2                     1          65.71  \n",
            "3                     8         107.78  \n",
            "4                     2         128.45  \n"
          ]
        }
      ],
      "source": [
        "url_order_payments = \"https://drive.google.com/uc?id=1G3jIWRXmlon5pej5-cktpIuL-vs65g6j\"\n",
        "gdown.download(url_order_payments, \"order_payments.csv\", quiet=False)\n",
        "order_payments_df = pd.read_csv(\"order_payments.csv\")\n",
        "print(order_payments_df.head())"
      ]
    },
    {
      "cell_type": "code",
      "execution_count": 43,
      "metadata": {
        "colab": {
          "base_uri": "https://localhost:8080/"
        },
        "id": "IXmdnd9HCY6p",
        "outputId": "4cef2d26-b58e-44f6-8eec-8a2f1182efe6"
      },
      "outputs": [
        {
          "output_type": "stream",
          "name": "stderr",
          "text": [
            "Downloading...\n",
            "From: https://drive.google.com/uc?id=1hsDHePmIcWb2qlyOIftgZQh-3UJCQbSy\n",
            "To: /content/products.csv\n",
            "100%|██████████| 2.38M/2.38M [00:00<00:00, 31.6MB/s]"
          ]
        },
        {
          "output_type": "stream",
          "name": "stdout",
          "text": [
            "                         product_id  product_category_name  \\\n",
            "0  1e9e8ef04dbcff4541ed26657ea517e5             perfumaria   \n",
            "1  3aa071139cb16b67ca9e5dea641aaa2f                  artes   \n",
            "2  96bd76ec8810374ed1b65e291975717f          esporte_lazer   \n",
            "3  cef67bcfe19066a932b7673e239eb23d                  bebes   \n",
            "4  9dc1a7de274444849c219cff195d0b71  utilidades_domesticas   \n",
            "\n",
            "   product_name_lenght  product_description_lenght  product_photos_qty  \\\n",
            "0                 40.0                       287.0                 1.0   \n",
            "1                 44.0                       276.0                 1.0   \n",
            "2                 46.0                       250.0                 1.0   \n",
            "3                 27.0                       261.0                 1.0   \n",
            "4                 37.0                       402.0                 4.0   \n",
            "\n",
            "   product_weight_g  product_length_cm  product_height_cm  product_width_cm  \n",
            "0             225.0               16.0               10.0              14.0  \n",
            "1            1000.0               30.0               18.0              20.0  \n",
            "2             154.0               18.0                9.0              15.0  \n",
            "3             371.0               26.0                4.0              26.0  \n",
            "4             625.0               20.0               17.0              13.0  \n"
          ]
        },
        {
          "output_type": "stream",
          "name": "stderr",
          "text": [
            "\n"
          ]
        }
      ],
      "source": [
        "url_products = \"https://drive.google.com/uc?id=1hsDHePmIcWb2qlyOIftgZQh-3UJCQbSy\"\n",
        "gdown.download(url_products, \"products.csv\", quiet=False)\n",
        "products_df = pd.read_csv(\"products.csv\")\n",
        "print(products_df.head())"
      ]
    },
    {
      "cell_type": "code",
      "execution_count": 44,
      "metadata": {
        "colab": {
          "base_uri": "https://localhost:8080/"
        },
        "id": "nJlDOIJUCZDX",
        "outputId": "5a4c479a-6c5e-434b-d913-6e4528accae5"
      },
      "outputs": [
        {
          "output_type": "stream",
          "name": "stderr",
          "text": [
            "Downloading...\n",
            "From: https://drive.google.com/uc?id=1AiJ90xua1lKpGPffAYBXEiaoAFkObd1b\n",
            "To: /content/sellers.csv\n",
            "100%|██████████| 175k/175k [00:00<00:00, 8.53MB/s]"
          ]
        },
        {
          "output_type": "stream",
          "name": "stdout",
          "text": [
            "                          seller_id  seller_zip_code_prefix  \\\n",
            "0  3442f8959a84dea7ee197c632cb2df15                   13023   \n",
            "1  d1b65fc7debc3361ea86b5f14c68d2e2                   13844   \n",
            "2  ce3ad9de960102d0677a81f5d0bb7b2d                   20031   \n",
            "3  c0f3eea2e14555b6faeea3dd58c1b1c3                    4195   \n",
            "4  51a04a8a6bdcb23deccc82b0b80742cf                   12914   \n",
            "\n",
            "         seller_city seller_state  \n",
            "0           campinas           SP  \n",
            "1         mogi guacu           SP  \n",
            "2     rio de janeiro           RJ  \n",
            "3          sao paulo           SP  \n",
            "4  braganca paulista           SP  \n"
          ]
        },
        {
          "output_type": "stream",
          "name": "stderr",
          "text": [
            "\n"
          ]
        }
      ],
      "source": [
        "url_sellers = \"https://drive.google.com/uc?id=1AiJ90xua1lKpGPffAYBXEiaoAFkObd1b\"\n",
        "gdown.download(url_sellers, \"sellers.csv\", quiet=False)\n",
        "sellers_df = pd.read_csv(\"sellers.csv\")\n",
        "print(sellers_df.head())"
      ]
    },
    {
      "cell_type": "code",
      "execution_count": 45,
      "metadata": {
        "colab": {
          "base_uri": "https://localhost:8080/"
        },
        "id": "99n0RVFqCZMc",
        "outputId": "5066f616-5bc2-46c5-d6c2-ade9af974454"
      },
      "outputs": [
        {
          "output_type": "stream",
          "name": "stderr",
          "text": [
            "Downloading...\n",
            "From: https://drive.google.com/uc?id=1UOnHFNy4RaPlYxiereMlMfQgnXNVKimE\n",
            "To: /content/product_category.csv\n",
            "100%|██████████| 2.61k/2.61k [00:00<00:00, 8.79MB/s]"
          ]
        },
        {
          "output_type": "stream",
          "name": "stdout",
          "text": [
            "    product_category_name product_category_name_english\n",
            "0            beleza_saude                 health_beauty\n",
            "1  informatica_acessorios         computers_accessories\n",
            "2              automotivo                          auto\n",
            "3         cama_mesa_banho                bed_bath_table\n",
            "4        moveis_decoracao               furniture_decor\n"
          ]
        },
        {
          "output_type": "stream",
          "name": "stderr",
          "text": [
            "\n"
          ]
        }
      ],
      "source": [
        "url_product_category = \"https://drive.google.com/uc?id=1UOnHFNy4RaPlYxiereMlMfQgnXNVKimE\"\n",
        "gdown.download(url_product_category, \"product_category.csv\", quiet=False)\n",
        "product_category_df = pd.read_csv(\"product_category.csv\")\n",
        "print(product_category_df.head())"
      ]
    },
    {
      "cell_type": "markdown",
      "source": [
        "**Insight:**\n",
        "- xxx\n",
        "- xxx"
      ],
      "metadata": {
        "id": "MMi6xGaDkbCi"
      }
    },
    {
      "cell_type": "markdown",
      "metadata": {
        "id": "FHSiqaZp8DC1"
      },
      "source": [
        "### Assessing Data"
      ]
    },
    {
      "cell_type": "markdown",
      "source": [
        "**Memeriksa data type pada setiap DataFrame**"
      ],
      "metadata": {
        "id": "KQQF1LqoGJxz"
      }
    },
    {
      "cell_type": "code",
      "source": [
        "print(geolocation_df.info(), \"\\n\")\n",
        "print(orders_df.info(), \"\\n\")\n",
        "print(order_items_df.info(), \"\\n\")\n",
        "print(order_reviews_df.info(), \"\\n\")\n",
        "print(customers_df.info(), \"\\n\")\n",
        "print(order_payments_df.info(), \"\\n\")\n",
        "print(products_df.info(), \"\\n\")\n",
        "print(sellers_df.info(), \"\\n\")\n",
        "print(product_category_df.info(), \"\\n\")\n"
      ],
      "metadata": {
        "id": "ax-3tEjc9Cj1",
        "colab": {
          "base_uri": "https://localhost:8080/"
        },
        "outputId": "9ad0c56a-fe27-43eb-c505-ff3600f9277a"
      },
      "execution_count": 46,
      "outputs": [
        {
          "output_type": "stream",
          "name": "stdout",
          "text": [
            "<class 'pandas.core.frame.DataFrame'>\n",
            "RangeIndex: 1000163 entries, 0 to 1000162\n",
            "Data columns (total 5 columns):\n",
            " #   Column                       Non-Null Count    Dtype  \n",
            "---  ------                       --------------    -----  \n",
            " 0   geolocation_zip_code_prefix  1000163 non-null  int64  \n",
            " 1   geolocation_lat              1000163 non-null  float64\n",
            " 2   geolocation_lng              1000163 non-null  float64\n",
            " 3   geolocation_city             1000163 non-null  object \n",
            " 4   geolocation_state            1000163 non-null  object \n",
            "dtypes: float64(2), int64(1), object(2)\n",
            "memory usage: 38.2+ MB\n",
            "None \n",
            "\n",
            "<class 'pandas.core.frame.DataFrame'>\n",
            "RangeIndex: 99441 entries, 0 to 99440\n",
            "Data columns (total 8 columns):\n",
            " #   Column                         Non-Null Count  Dtype \n",
            "---  ------                         --------------  ----- \n",
            " 0   order_id                       99441 non-null  object\n",
            " 1   customer_id                    99441 non-null  object\n",
            " 2   order_status                   99441 non-null  object\n",
            " 3   order_purchase_timestamp       99441 non-null  object\n",
            " 4   order_approved_at              99281 non-null  object\n",
            " 5   order_delivered_carrier_date   97658 non-null  object\n",
            " 6   order_delivered_customer_date  96476 non-null  object\n",
            " 7   order_estimated_delivery_date  99441 non-null  object\n",
            "dtypes: object(8)\n",
            "memory usage: 6.1+ MB\n",
            "None \n",
            "\n",
            "<class 'pandas.core.frame.DataFrame'>\n",
            "RangeIndex: 112650 entries, 0 to 112649\n",
            "Data columns (total 7 columns):\n",
            " #   Column               Non-Null Count   Dtype  \n",
            "---  ------               --------------   -----  \n",
            " 0   order_id             112650 non-null  object \n",
            " 1   order_item_id        112650 non-null  int64  \n",
            " 2   product_id           112650 non-null  object \n",
            " 3   seller_id            112650 non-null  object \n",
            " 4   shipping_limit_date  112650 non-null  object \n",
            " 5   price                112650 non-null  float64\n",
            " 6   freight_value        112650 non-null  float64\n",
            "dtypes: float64(2), int64(1), object(4)\n",
            "memory usage: 6.0+ MB\n",
            "None \n",
            "\n",
            "<class 'pandas.core.frame.DataFrame'>\n",
            "RangeIndex: 99224 entries, 0 to 99223\n",
            "Data columns (total 7 columns):\n",
            " #   Column                   Non-Null Count  Dtype \n",
            "---  ------                   --------------  ----- \n",
            " 0   review_id                99224 non-null  object\n",
            " 1   order_id                 99224 non-null  object\n",
            " 2   review_score             99224 non-null  int64 \n",
            " 3   review_comment_title     11568 non-null  object\n",
            " 4   review_comment_message   40977 non-null  object\n",
            " 5   review_creation_date     99224 non-null  object\n",
            " 6   review_answer_timestamp  99224 non-null  object\n",
            "dtypes: int64(1), object(6)\n",
            "memory usage: 5.3+ MB\n",
            "None \n",
            "\n",
            "<class 'pandas.core.frame.DataFrame'>\n",
            "RangeIndex: 99441 entries, 0 to 99440\n",
            "Data columns (total 5 columns):\n",
            " #   Column                    Non-Null Count  Dtype \n",
            "---  ------                    --------------  ----- \n",
            " 0   customer_id               99441 non-null  object\n",
            " 1   customer_unique_id        99441 non-null  object\n",
            " 2   customer_zip_code_prefix  99441 non-null  int64 \n",
            " 3   customer_city             99441 non-null  object\n",
            " 4   customer_state            99441 non-null  object\n",
            "dtypes: int64(1), object(4)\n",
            "memory usage: 3.8+ MB\n",
            "None \n",
            "\n",
            "<class 'pandas.core.frame.DataFrame'>\n",
            "RangeIndex: 103886 entries, 0 to 103885\n",
            "Data columns (total 5 columns):\n",
            " #   Column                Non-Null Count   Dtype  \n",
            "---  ------                --------------   -----  \n",
            " 0   order_id              103886 non-null  object \n",
            " 1   payment_sequential    103886 non-null  int64  \n",
            " 2   payment_type          103886 non-null  object \n",
            " 3   payment_installments  103886 non-null  int64  \n",
            " 4   payment_value         103886 non-null  float64\n",
            "dtypes: float64(1), int64(2), object(2)\n",
            "memory usage: 4.0+ MB\n",
            "None \n",
            "\n",
            "<class 'pandas.core.frame.DataFrame'>\n",
            "RangeIndex: 32951 entries, 0 to 32950\n",
            "Data columns (total 9 columns):\n",
            " #   Column                      Non-Null Count  Dtype  \n",
            "---  ------                      --------------  -----  \n",
            " 0   product_id                  32951 non-null  object \n",
            " 1   product_category_name       32341 non-null  object \n",
            " 2   product_name_lenght         32341 non-null  float64\n",
            " 3   product_description_lenght  32341 non-null  float64\n",
            " 4   product_photos_qty          32341 non-null  float64\n",
            " 5   product_weight_g            32949 non-null  float64\n",
            " 6   product_length_cm           32949 non-null  float64\n",
            " 7   product_height_cm           32949 non-null  float64\n",
            " 8   product_width_cm            32949 non-null  float64\n",
            "dtypes: float64(7), object(2)\n",
            "memory usage: 2.3+ MB\n",
            "None \n",
            "\n",
            "<class 'pandas.core.frame.DataFrame'>\n",
            "RangeIndex: 3095 entries, 0 to 3094\n",
            "Data columns (total 4 columns):\n",
            " #   Column                  Non-Null Count  Dtype \n",
            "---  ------                  --------------  ----- \n",
            " 0   seller_id               3095 non-null   object\n",
            " 1   seller_zip_code_prefix  3095 non-null   int64 \n",
            " 2   seller_city             3095 non-null   object\n",
            " 3   seller_state            3095 non-null   object\n",
            "dtypes: int64(1), object(3)\n",
            "memory usage: 96.8+ KB\n",
            "None \n",
            "\n",
            "<class 'pandas.core.frame.DataFrame'>\n",
            "RangeIndex: 71 entries, 0 to 70\n",
            "Data columns (total 2 columns):\n",
            " #   Column                         Non-Null Count  Dtype \n",
            "---  ------                         --------------  ----- \n",
            " 0   product_category_name          71 non-null     object\n",
            " 1   product_category_name_english  71 non-null     object\n",
            "dtypes: object(2)\n",
            "memory usage: 1.2+ KB\n",
            "None \n",
            "\n"
          ]
        }
      ]
    },
    {
      "cell_type": "markdown",
      "source": [
        "Memeriksa data null pada setiap DataFrame"
      ],
      "metadata": {
        "id": "XVHxRaGTGtOR"
      }
    },
    {
      "cell_type": "code",
      "source": [
        "print(\"Info data null pada geolocation: \\n\", geolocation_df.isna().sum(), \"\\n\")\n",
        "print(\"Info data null pada orders: \\n\", orders_df.isna().sum(), \"\\n\")\n",
        "print(\"Info data null pada order items: \\n\", order_items_df.isna().sum(), \"\\n\")\n",
        "print(\"Info data null pada order reviews: \\n\", order_reviews_df.isna().sum(), \"\\n\")\n",
        "print(\"Info data null pada customers: \\n\", customers_df.isna().sum(), \"\\n\")\n",
        "print(\"Info data null pada order payments: \\n\", order_payments_df.isna().sum(), \"\\n\")\n",
        "print(\"Info data null pada products: \\n\", products_df.isna().sum(), \"\\n\")\n",
        "print(\"Info data null pada sellers: \\n\", sellers_df.isna().sum(), \"\\n\")\n",
        "print(\"Info data null pada product category: \\n\", product_category_df.isna().sum(), \"\\n\")"
      ],
      "metadata": {
        "colab": {
          "base_uri": "https://localhost:8080/"
        },
        "outputId": "eec2b030-788e-4ebf-8181-885a683f8561",
        "id": "VL0X06OfGcOH"
      },
      "execution_count": 47,
      "outputs": [
        {
          "output_type": "stream",
          "name": "stdout",
          "text": [
            "Info data null pada geolocation: \n",
            " geolocation_zip_code_prefix    0\n",
            "geolocation_lat                0\n",
            "geolocation_lng                0\n",
            "geolocation_city               0\n",
            "geolocation_state              0\n",
            "dtype: int64 \n",
            "\n",
            "Info data null pada orders: \n",
            " order_id                            0\n",
            "customer_id                         0\n",
            "order_status                        0\n",
            "order_purchase_timestamp            0\n",
            "order_approved_at                 160\n",
            "order_delivered_carrier_date     1783\n",
            "order_delivered_customer_date    2965\n",
            "order_estimated_delivery_date       0\n",
            "dtype: int64 \n",
            "\n",
            "Info data null pada order items: \n",
            " order_id               0\n",
            "order_item_id          0\n",
            "product_id             0\n",
            "seller_id              0\n",
            "shipping_limit_date    0\n",
            "price                  0\n",
            "freight_value          0\n",
            "dtype: int64 \n",
            "\n",
            "Info data null pada order reviews: \n",
            " review_id                      0\n",
            "order_id                       0\n",
            "review_score                   0\n",
            "review_comment_title       87656\n",
            "review_comment_message     58247\n",
            "review_creation_date           0\n",
            "review_answer_timestamp        0\n",
            "dtype: int64 \n",
            "\n",
            "Info data null pada customers: \n",
            " customer_id                 0\n",
            "customer_unique_id          0\n",
            "customer_zip_code_prefix    0\n",
            "customer_city               0\n",
            "customer_state              0\n",
            "dtype: int64 \n",
            "\n",
            "Info data null pada order payments: \n",
            " order_id                0\n",
            "payment_sequential      0\n",
            "payment_type            0\n",
            "payment_installments    0\n",
            "payment_value           0\n",
            "dtype: int64 \n",
            "\n",
            "Info data null pada products: \n",
            " product_id                      0\n",
            "product_category_name         610\n",
            "product_name_lenght           610\n",
            "product_description_lenght    610\n",
            "product_photos_qty            610\n",
            "product_weight_g                2\n",
            "product_length_cm               2\n",
            "product_height_cm               2\n",
            "product_width_cm                2\n",
            "dtype: int64 \n",
            "\n",
            "Info data null pada sellers: \n",
            " seller_id                 0\n",
            "seller_zip_code_prefix    0\n",
            "seller_city               0\n",
            "seller_state              0\n",
            "dtype: int64 \n",
            "\n",
            "Info data null pada product category: \n",
            " product_category_name            0\n",
            "product_category_name_english    0\n",
            "dtype: int64 \n",
            "\n"
          ]
        }
      ]
    },
    {
      "cell_type": "markdown",
      "source": [
        "Memeriksa data duplicate pada setiap DataFrame"
      ],
      "metadata": {
        "id": "SqTYqBmdG0Gf"
      }
    },
    {
      "cell_type": "code",
      "source": [
        "print(\"Jumlah duplikasi geolocation: \", geolocation_df.duplicated().sum(), \"\\n\")\n",
        "print(\"Jumlah duplikasi orders: \", orders_df.duplicated().sum(), \"\\n\")\n",
        "print(\"Jumlah duplikasi order items: \", order_items_df.duplicated().sum(), \"\\n\")\n",
        "print(\"Jumlah duplikasi order reviews: \", order_reviews_df.duplicated().sum(), \"\\n\")\n",
        "print(\"Jumlah duplikasi customers: \", customers_df.duplicated().sum(), \"\\n\")\n",
        "print(\"Jumlah duplikasi order payments: \", order_payments_df.duplicated().sum(), \"\\n\")\n",
        "print(\"Jumlah duplikasi products: \", products_df.duplicated().sum(), \"\\n\")\n",
        "print(\"Jumlah duplikasi sellers: \", sellers_df.duplicated().sum(), \"\\n\")\n",
        "print(\"Jumlah duplikasi product category: \", product_category_df.duplicated().sum(), \"\\n\")"
      ],
      "metadata": {
        "colab": {
          "base_uri": "https://localhost:8080/"
        },
        "id": "dlJ5JPC0Gg6Y",
        "outputId": "7224ef10-480a-44f5-c2a0-362758905033"
      },
      "execution_count": 48,
      "outputs": [
        {
          "output_type": "stream",
          "name": "stdout",
          "text": [
            "Jumlah duplikasi geolocation:  261831 \n",
            "\n",
            "Jumlah duplikasi orders:  0 \n",
            "\n",
            "Jumlah duplikasi order items:  0 \n",
            "\n",
            "Jumlah duplikasi order reviews:  0 \n",
            "\n",
            "Jumlah duplikasi customers:  0 \n",
            "\n",
            "Jumlah duplikasi order payments:  0 \n",
            "\n",
            "Jumlah duplikasi products:  0 \n",
            "\n",
            "Jumlah duplikasi sellers:  0 \n",
            "\n",
            "Jumlah duplikasi product category:  0 \n",
            "\n"
          ]
        }
      ]
    },
    {
      "cell_type": "markdown",
      "source": [
        "Describe semua DataFrame"
      ],
      "metadata": {
        "id": "PRjV3hMIG2ZT"
      }
    },
    {
      "cell_type": "code",
      "source": [
        "print(\"Data describe geolocation:\\n\", geolocation_df.describe(include=\"all\"), \"\\n\")\n",
        "print(\"Data describe orders:\\n\", orders_df.describe(include=\"all\"), \"\\n\")\n",
        "print(\"Data describe order items:\\n\", order_items_df.describe(include=\"all\"), \"\\n\")\n",
        "print(\"Data describe order reviews:\\n\", order_reviews_df.describe(include=\"all\"), \"\\n\")\n",
        "print(\"Data describe customers:\\n\", customers_df.describe(include=\"all\"), \"\\n\")\n",
        "print(\"Data describe order payments:\\n\", order_payments_df.describe(include=\"all\"), \"\\n\")\n",
        "print(\"Data describe products:\\n\", products_df.describe(include=\"all\"), \"\\n\")\n",
        "print(\"Data describe sellers:\\n\", sellers_df.describe(include=\"all\"), \"\\n\")\n",
        "print(\"Data describe product category:\\n\", product_category_df.describe(include=\"all\"), \"\\n\")"
      ],
      "metadata": {
        "colab": {
          "base_uri": "https://localhost:8080/"
        },
        "id": "b4hHDY_nG0eY",
        "outputId": "44de6595-4fa6-47ad-99db-fd746e9aba0c"
      },
      "execution_count": 49,
      "outputs": [
        {
          "output_type": "stream",
          "name": "stdout",
          "text": [
            "Data describe geolocation:\n",
            "         geolocation_zip_code_prefix  geolocation_lat  geolocation_lng  \\\n",
            "count                  1.000163e+06     1.000163e+06     1.000163e+06   \n",
            "unique                          NaN              NaN              NaN   \n",
            "top                             NaN              NaN              NaN   \n",
            "freq                            NaN              NaN              NaN   \n",
            "mean                   3.657417e+04    -2.117615e+01    -4.639054e+01   \n",
            "std                    3.054934e+04     5.715866e+00     4.269748e+00   \n",
            "min                    1.001000e+03    -3.660537e+01    -1.014668e+02   \n",
            "25%                    1.107500e+04    -2.360355e+01    -4.857317e+01   \n",
            "50%                    2.653000e+04    -2.291938e+01    -4.663788e+01   \n",
            "75%                    6.350400e+04    -1.997962e+01    -4.376771e+01   \n",
            "max                    9.999000e+04     4.506593e+01     1.211054e+02   \n",
            "\n",
            "       geolocation_city geolocation_state  \n",
            "count           1000163           1000163  \n",
            "unique             8011                27  \n",
            "top           sao paulo                SP  \n",
            "freq             135800            404268  \n",
            "mean                NaN               NaN  \n",
            "std                 NaN               NaN  \n",
            "min                 NaN               NaN  \n",
            "25%                 NaN               NaN  \n",
            "50%                 NaN               NaN  \n",
            "75%                 NaN               NaN  \n",
            "max                 NaN               NaN   \n",
            "\n",
            "Data describe orders:\n",
            "                                 order_id                       customer_id  \\\n",
            "count                              99441                             99441   \n",
            "unique                             99441                             99441   \n",
            "top     66dea50a8b16d9b4dee7af250b4be1a5  edb027a75a1449115f6b43211ae02a24   \n",
            "freq                                   1                                 1   \n",
            "\n",
            "       order_status order_purchase_timestamp    order_approved_at  \\\n",
            "count         99441                    99441                99281   \n",
            "unique            8                    98875                90733   \n",
            "top       delivered      2018-08-02 12:06:07  2018-02-27 04:31:10   \n",
            "freq          96478                        3                    9   \n",
            "\n",
            "       order_delivered_carrier_date order_delivered_customer_date  \\\n",
            "count                         97658                         96476   \n",
            "unique                        81018                         95664   \n",
            "top             2018-05-09 15:48:00           2018-05-14 20:02:44   \n",
            "freq                             47                             3   \n",
            "\n",
            "       order_estimated_delivery_date  \n",
            "count                          99441  \n",
            "unique                           459  \n",
            "top              2017-12-20 00:00:00  \n",
            "freq                             522   \n",
            "\n",
            "Data describe order items:\n",
            "                                 order_id  order_item_id  \\\n",
            "count                             112650  112650.000000   \n",
            "unique                             98666            NaN   \n",
            "top     8272b63d03f5f79c56e9e4120aec44ef            NaN   \n",
            "freq                                  21            NaN   \n",
            "mean                                 NaN       1.197834   \n",
            "std                                  NaN       0.705124   \n",
            "min                                  NaN       1.000000   \n",
            "25%                                  NaN       1.000000   \n",
            "50%                                  NaN       1.000000   \n",
            "75%                                  NaN       1.000000   \n",
            "max                                  NaN      21.000000   \n",
            "\n",
            "                              product_id                         seller_id  \\\n",
            "count                             112650                            112650   \n",
            "unique                             32951                              3095   \n",
            "top     aca2eb7d00ea1a7b8ebd4e68314663af  6560211a19b47992c3666cc44a7e94c0   \n",
            "freq                                 527                              2033   \n",
            "mean                                 NaN                               NaN   \n",
            "std                                  NaN                               NaN   \n",
            "min                                  NaN                               NaN   \n",
            "25%                                  NaN                               NaN   \n",
            "50%                                  NaN                               NaN   \n",
            "75%                                  NaN                               NaN   \n",
            "max                                  NaN                               NaN   \n",
            "\n",
            "        shipping_limit_date          price  freight_value  \n",
            "count                112650  112650.000000  112650.000000  \n",
            "unique                93318            NaN            NaN  \n",
            "top     2017-07-21 18:25:23            NaN            NaN  \n",
            "freq                     21            NaN            NaN  \n",
            "mean                    NaN     120.653739      19.990320  \n",
            "std                     NaN     183.633928      15.806405  \n",
            "min                     NaN       0.850000       0.000000  \n",
            "25%                     NaN      39.900000      13.080000  \n",
            "50%                     NaN      74.990000      16.260000  \n",
            "75%                     NaN     134.900000      21.150000  \n",
            "max                     NaN    6735.000000     409.680000   \n",
            "\n",
            "Data describe order reviews:\n",
            "                                review_id                          order_id  \\\n",
            "count                              99224                             99224   \n",
            "unique                             98410                             98673   \n",
            "top     4548534449b1f572e357211b90724f1b  03c939fd7fd3b38f8485a0f95798f1f6   \n",
            "freq                                   3                                 3   \n",
            "mean                                 NaN                               NaN   \n",
            "std                                  NaN                               NaN   \n",
            "min                                  NaN                               NaN   \n",
            "25%                                  NaN                               NaN   \n",
            "50%                                  NaN                               NaN   \n",
            "75%                                  NaN                               NaN   \n",
            "max                                  NaN                               NaN   \n",
            "\n",
            "        review_score review_comment_title review_comment_message  \\\n",
            "count   99224.000000                11568                  40977   \n",
            "unique           NaN                 4527                  36159   \n",
            "top              NaN            Recomendo              Muito bom   \n",
            "freq             NaN                  423                    230   \n",
            "mean        4.086421                  NaN                    NaN   \n",
            "std         1.347579                  NaN                    NaN   \n",
            "min         1.000000                  NaN                    NaN   \n",
            "25%         4.000000                  NaN                    NaN   \n",
            "50%         5.000000                  NaN                    NaN   \n",
            "75%         5.000000                  NaN                    NaN   \n",
            "max         5.000000                  NaN                    NaN   \n",
            "\n",
            "       review_creation_date review_answer_timestamp  \n",
            "count                 99224                   99224  \n",
            "unique                  636                   98248  \n",
            "top     2017-12-19 00:00:00     2017-06-15 23:21:05  \n",
            "freq                    463                       4  \n",
            "mean                    NaN                     NaN  \n",
            "std                     NaN                     NaN  \n",
            "min                     NaN                     NaN  \n",
            "25%                     NaN                     NaN  \n",
            "50%                     NaN                     NaN  \n",
            "75%                     NaN                     NaN  \n",
            "max                     NaN                     NaN   \n",
            "\n",
            "Data describe customers:\n",
            "                              customer_id                customer_unique_id  \\\n",
            "count                              99441                             99441   \n",
            "unique                             99441                             96096   \n",
            "top     274fa6071e5e17fe303b9748641082c8  8d50f5eadf50201ccdcedfb9e2ac8455   \n",
            "freq                                   1                                17   \n",
            "mean                                 NaN                               NaN   \n",
            "std                                  NaN                               NaN   \n",
            "min                                  NaN                               NaN   \n",
            "25%                                  NaN                               NaN   \n",
            "50%                                  NaN                               NaN   \n",
            "75%                                  NaN                               NaN   \n",
            "max                                  NaN                               NaN   \n",
            "\n",
            "        customer_zip_code_prefix customer_city customer_state  \n",
            "count               99441.000000         99441          99441  \n",
            "unique                       NaN          4119             27  \n",
            "top                          NaN     sao paulo             SP  \n",
            "freq                         NaN         15540          41746  \n",
            "mean                35137.474583           NaN            NaN  \n",
            "std                 29797.938996           NaN            NaN  \n",
            "min                  1003.000000           NaN            NaN  \n",
            "25%                 11347.000000           NaN            NaN  \n",
            "50%                 24416.000000           NaN            NaN  \n",
            "75%                 58900.000000           NaN            NaN  \n",
            "max                 99990.000000           NaN            NaN   \n",
            "\n",
            "Data describe order payments:\n",
            "                                 order_id  payment_sequential payment_type  \\\n",
            "count                             103886       103886.000000       103886   \n",
            "unique                             99440                 NaN            5   \n",
            "top     fa65dad1b0e818e3ccc5cb0e39231352                 NaN  credit_card   \n",
            "freq                                  29                 NaN        76795   \n",
            "mean                                 NaN            1.092679          NaN   \n",
            "std                                  NaN            0.706584          NaN   \n",
            "min                                  NaN            1.000000          NaN   \n",
            "25%                                  NaN            1.000000          NaN   \n",
            "50%                                  NaN            1.000000          NaN   \n",
            "75%                                  NaN            1.000000          NaN   \n",
            "max                                  NaN           29.000000          NaN   \n",
            "\n",
            "        payment_installments  payment_value  \n",
            "count          103886.000000  103886.000000  \n",
            "unique                   NaN            NaN  \n",
            "top                      NaN            NaN  \n",
            "freq                     NaN            NaN  \n",
            "mean                2.853349     154.100380  \n",
            "std                 2.687051     217.494064  \n",
            "min                 0.000000       0.000000  \n",
            "25%                 1.000000      56.790000  \n",
            "50%                 1.000000     100.000000  \n",
            "75%                 4.000000     171.837500  \n",
            "max                24.000000   13664.080000   \n",
            "\n",
            "Data describe products:\n",
            "                               product_id product_category_name  \\\n",
            "count                              32951                 32341   \n",
            "unique                             32951                    73   \n",
            "top     106392145fca363410d287a815be6de4       cama_mesa_banho   \n",
            "freq                                   1                  3029   \n",
            "mean                                 NaN                   NaN   \n",
            "std                                  NaN                   NaN   \n",
            "min                                  NaN                   NaN   \n",
            "25%                                  NaN                   NaN   \n",
            "50%                                  NaN                   NaN   \n",
            "75%                                  NaN                   NaN   \n",
            "max                                  NaN                   NaN   \n",
            "\n",
            "        product_name_lenght  product_description_lenght  product_photos_qty  \\\n",
            "count          32341.000000                32341.000000        32341.000000   \n",
            "unique                  NaN                         NaN                 NaN   \n",
            "top                     NaN                         NaN                 NaN   \n",
            "freq                    NaN                         NaN                 NaN   \n",
            "mean              48.476949                  771.495285            2.188986   \n",
            "std               10.245741                  635.115225            1.736766   \n",
            "min                5.000000                    4.000000            1.000000   \n",
            "25%               42.000000                  339.000000            1.000000   \n",
            "50%               51.000000                  595.000000            1.000000   \n",
            "75%               57.000000                  972.000000            3.000000   \n",
            "max               76.000000                 3992.000000           20.000000   \n",
            "\n",
            "        product_weight_g  product_length_cm  product_height_cm  \\\n",
            "count       32949.000000       32949.000000       32949.000000   \n",
            "unique               NaN                NaN                NaN   \n",
            "top                  NaN                NaN                NaN   \n",
            "freq                 NaN                NaN                NaN   \n",
            "mean         2276.472488          30.815078          16.937661   \n",
            "std          4282.038731          16.914458          13.637554   \n",
            "min             0.000000           7.000000           2.000000   \n",
            "25%           300.000000          18.000000           8.000000   \n",
            "50%           700.000000          25.000000          13.000000   \n",
            "75%          1900.000000          38.000000          21.000000   \n",
            "max         40425.000000         105.000000         105.000000   \n",
            "\n",
            "        product_width_cm  \n",
            "count       32949.000000  \n",
            "unique               NaN  \n",
            "top                  NaN  \n",
            "freq                 NaN  \n",
            "mean           23.196728  \n",
            "std            12.079047  \n",
            "min             6.000000  \n",
            "25%            15.000000  \n",
            "50%            20.000000  \n",
            "75%            30.000000  \n",
            "max           118.000000   \n",
            "\n",
            "Data describe sellers:\n",
            "                                seller_id  seller_zip_code_prefix seller_city  \\\n",
            "count                               3095             3095.000000        3095   \n",
            "unique                              3095                     NaN         611   \n",
            "top     9e25199f6ef7e7c347120ff175652c3b                     NaN   sao paulo   \n",
            "freq                                   1                     NaN         694   \n",
            "mean                                 NaN            32291.059451         NaN   \n",
            "std                                  NaN            32713.453830         NaN   \n",
            "min                                  NaN             1001.000000         NaN   \n",
            "25%                                  NaN             7093.500000         NaN   \n",
            "50%                                  NaN            14940.000000         NaN   \n",
            "75%                                  NaN            64552.500000         NaN   \n",
            "max                                  NaN            99730.000000         NaN   \n",
            "\n",
            "       seller_state  \n",
            "count          3095  \n",
            "unique           23  \n",
            "top              SP  \n",
            "freq           1849  \n",
            "mean            NaN  \n",
            "std             NaN  \n",
            "min             NaN  \n",
            "25%             NaN  \n",
            "50%             NaN  \n",
            "75%             NaN  \n",
            "max             NaN   \n",
            "\n",
            "Data describe product category:\n",
            "        product_category_name product_category_name_english\n",
            "count                     71                            71\n",
            "unique                    71                            71\n",
            "top             beleza_saude                 health_beauty\n",
            "freq                       1                             1 \n",
            "\n"
          ]
        }
      ]
    },
    {
      "cell_type": "markdown",
      "source": [
        "**Insight:**\n",
        "- Berdasarkan pemeriksaan data type dapat dilihat bahwa terdapat kesalahan data type pada DataFrame orders di kolom order_purchase_timestamp, order_approved_at, order_delivered_carrier_date, order_delivered_customer_date, dan order_estimated_delivery_date yang seharusnya memiliki data type berupa datetime tetapi di DataFrame tersebut data type adalah object. Terdapat kesalahan yang sama di DataFrame order_items di kolom shipping_limit_date dan pada DataFrame order_revs di kolom review_creation_date. Ketidaksesuaian data type ini akan diperbaiki di data cleaning.\n",
        "\n",
        "- Berdasarkan hasil pemeriksaan data null terlihat bahwa terdapat data null pada DataFrame orders di kolom order_approved_at, order_delivered_carrier_date, dan order_delivered_customer_date. Pada DataFrame order_revs terdapat data null pada kolom review_comment_title, dan review_comment_message. Pada DataFrame products terdapat data null pada kolom product_category_name, product_name_length, product_description_length, product_photos_qt, product_weight_g, product_length_cm, product_height_cm, dan product_width_cm\n",
        "\n",
        "- Berdasarkan pemeriksaan duplikasi data terdapat duplikasi data pada geolocation dengan jumlah duplikasi geolocation:  261836"
      ],
      "metadata": {
        "id": "7dtxhAPrkhPL"
      }
    },
    {
      "cell_type": "markdown",
      "metadata": {
        "id": "EhN5R4hr8DC1"
      },
      "source": [
        "### Cleaning Data"
      ]
    },
    {
      "cell_type": "markdown",
      "source": [
        "Ubah tipe data ke datetime"
      ],
      "metadata": {
        "id": "FvX5CBKTv6Qq"
      }
    },
    {
      "cell_type": "code",
      "source": [
        "# Ubah tipe data ke datetime\n",
        "orders_df[\"order_purchase_timestamp\"] = pd.to_datetime(orders_df[\"order_purchase_timestamp\"])\n",
        "orders_df[\"order_approved_at\"] = pd.to_datetime(orders_df[\"order_approved_at\"])\n",
        "orders_df[\"order_delivered_carrier_date\"] = pd.to_datetime(orders_df[\"order_delivered_carrier_date\"])\n",
        "orders_df[\"order_delivered_customer_date\"] = pd.to_datetime(orders_df[\"order_delivered_customer_date\"])\n",
        "orders_df[\"order_estimated_delivery_date\"] = pd.to_datetime(orders_df[\"order_estimated_delivery_date\"])\n",
        "\n",
        "order_items_df[\"shipping_limit_date\"] = pd.to_datetime(order_items_df[\"shipping_limit_date\"])\n",
        "order_reviews_df[\"review_creation_date\"] = pd.to_datetime(order_reviews_df[\"review_creation_date\"])\n",
        "\n",
        "# Cek apakah perubahan berhasil\n",
        "print(\"Jumlah kolom datetime di orders:\", orders_df.select_dtypes(include=['datetime']).shape[1])\n",
        "print(\"Jumlah kolom datetime di order_items_df:\", order_items_df.select_dtypes(include=['datetime']).shape[1])\n",
        "print(\"Jumlah kolom datetime di order_reviews_df:\", order_reviews_df.select_dtypes(include=['datetime']).shape[1])"
      ],
      "metadata": {
        "colab": {
          "base_uri": "https://localhost:8080/"
        },
        "outputId": "dac20ebe-c0a9-4c5e-806e-b53223a2962e",
        "id": "W8BxCHDlv4Wl"
      },
      "execution_count": 50,
      "outputs": [
        {
          "output_type": "stream",
          "name": "stdout",
          "text": [
            "Jumlah kolom datetime di orders: 5\n",
            "Jumlah kolom datetime di order_items_df: 1\n",
            "Jumlah kolom datetime di order_reviews_df: 1\n"
          ]
        }
      ]
    },
    {
      "cell_type": "code",
      "source": [
        "# Sebelum cleaning\n",
        "print(\"Jumlah missing values sebelum cleaning:\")\n",
        "print(orders_df.isnull().sum())\n",
        "print(order_reviews_df.isnull().sum())\n",
        "print(products_df.isnull().sum())\n",
        "\n",
        "# Isi missing values dengan kategori \"Unknown\" atau median\n",
        "orders_df[\"order_approved_at\"].fillna(\"Unknown\", inplace=True)\n",
        "orders_df[\"order_delivered_carrier_date\"].fillna(\"Unknown\", inplace=True)\n",
        "orders_df[\"order_delivered_customer_date\"].fillna(\"Unknown\", inplace=True)\n",
        "\n",
        "order_reviews_df[\"review_comment_title\"].fillna(\"\", inplace=True)\n",
        "order_reviews_df[\"review_comment_message\"].fillna(\"\", inplace=True)\n",
        "\n",
        "products_df[\"product_category_name\"].fillna(\"Unknown\", inplace=True)\n",
        "num_cols = [\"product_name_lenght\", \"product_description_lenght\", \"product_photos_qty\",\n",
        "            \"product_weight_g\", \"product_length_cm\", \"product_height_cm\", \"product_width_cm\"]\n",
        "for col in num_cols:\n",
        "    products_df[col].fillna(products_df[col].median(), inplace=True)\n",
        "\n",
        "# Setelah cleaning\n",
        "print(\"\\nJumlah missing values setelah cleaning:\")\n",
        "print(orders_df.isnull().sum())\n",
        "print(order_reviews_df.isnull().sum())\n",
        "print(products_df.isnull().sum())"
      ],
      "metadata": {
        "colab": {
          "base_uri": "https://localhost:8080/"
        },
        "outputId": "2d1953fc-5138-4a60-c9c3-1acb11c2eb40",
        "id": "3YTkDQhsv4y8"
      },
      "execution_count": 53,
      "outputs": [
        {
          "output_type": "stream",
          "name": "stdout",
          "text": [
            "Jumlah missing values sebelum cleaning:\n",
            "order_id                         0\n",
            "customer_id                      0\n",
            "order_status                     0\n",
            "order_purchase_timestamp         0\n",
            "order_approved_at                0\n",
            "order_delivered_carrier_date     0\n",
            "order_delivered_customer_date    0\n",
            "order_estimated_delivery_date    0\n",
            "dtype: int64\n",
            "review_id                      0\n",
            "order_id                       0\n",
            "review_score                   0\n",
            "review_comment_title       87656\n",
            "review_comment_message     58247\n",
            "review_creation_date           0\n",
            "review_answer_timestamp        0\n",
            "dtype: int64\n",
            "product_id                      0\n",
            "product_category_name         610\n",
            "product_name_lenght           610\n",
            "product_description_lenght    610\n",
            "product_photos_qty            610\n",
            "product_weight_g                2\n",
            "product_length_cm               2\n",
            "product_height_cm               2\n",
            "product_width_cm                2\n",
            "dtype: int64\n",
            "\n",
            "Jumlah missing values setelah cleaning:\n",
            "order_id                         0\n",
            "customer_id                      0\n",
            "order_status                     0\n",
            "order_purchase_timestamp         0\n",
            "order_approved_at                0\n",
            "order_delivered_carrier_date     0\n",
            "order_delivered_customer_date    0\n",
            "order_estimated_delivery_date    0\n",
            "dtype: int64\n",
            "review_id                  0\n",
            "order_id                   0\n",
            "review_score               0\n",
            "review_comment_title       0\n",
            "review_comment_message     0\n",
            "review_creation_date       0\n",
            "review_answer_timestamp    0\n",
            "dtype: int64\n",
            "product_id                    0\n",
            "product_category_name         0\n",
            "product_name_lenght           0\n",
            "product_description_lenght    0\n",
            "product_photos_qty            0\n",
            "product_weight_g              0\n",
            "product_length_cm             0\n",
            "product_height_cm             0\n",
            "product_width_cm              0\n",
            "dtype: int64\n"
          ]
        },
        {
          "output_type": "stream",
          "name": "stderr",
          "text": [
            "<ipython-input-53-f419105fbb96>:12: FutureWarning: A value is trying to be set on a copy of a DataFrame or Series through chained assignment using an inplace method.\n",
            "The behavior will change in pandas 3.0. This inplace method will never work because the intermediate object on which we are setting values always behaves as a copy.\n",
            "\n",
            "For example, when doing 'df[col].method(value, inplace=True)', try using 'df.method({col: value}, inplace=True)' or df[col] = df[col].method(value) instead, to perform the operation inplace on the original object.\n",
            "\n",
            "\n",
            "  order_reviews_df[\"review_comment_title\"].fillna(\"\", inplace=True)\n",
            "<ipython-input-53-f419105fbb96>:13: FutureWarning: A value is trying to be set on a copy of a DataFrame or Series through chained assignment using an inplace method.\n",
            "The behavior will change in pandas 3.0. This inplace method will never work because the intermediate object on which we are setting values always behaves as a copy.\n",
            "\n",
            "For example, when doing 'df[col].method(value, inplace=True)', try using 'df.method({col: value}, inplace=True)' or df[col] = df[col].method(value) instead, to perform the operation inplace on the original object.\n",
            "\n",
            "\n",
            "  order_reviews_df[\"review_comment_message\"].fillna(\"\", inplace=True)\n",
            "<ipython-input-53-f419105fbb96>:15: FutureWarning: A value is trying to be set on a copy of a DataFrame or Series through chained assignment using an inplace method.\n",
            "The behavior will change in pandas 3.0. This inplace method will never work because the intermediate object on which we are setting values always behaves as a copy.\n",
            "\n",
            "For example, when doing 'df[col].method(value, inplace=True)', try using 'df.method({col: value}, inplace=True)' or df[col] = df[col].method(value) instead, to perform the operation inplace on the original object.\n",
            "\n",
            "\n",
            "  products_df[\"product_category_name\"].fillna(\"Unknown\", inplace=True)\n",
            "<ipython-input-53-f419105fbb96>:19: FutureWarning: A value is trying to be set on a copy of a DataFrame or Series through chained assignment using an inplace method.\n",
            "The behavior will change in pandas 3.0. This inplace method will never work because the intermediate object on which we are setting values always behaves as a copy.\n",
            "\n",
            "For example, when doing 'df[col].method(value, inplace=True)', try using 'df.method({col: value}, inplace=True)' or df[col] = df[col].method(value) instead, to perform the operation inplace on the original object.\n",
            "\n",
            "\n",
            "  products_df[col].fillna(products_df[col].median(), inplace=True)\n"
          ]
        }
      ]
    },
    {
      "cell_type": "markdown",
      "source": [
        "Menghapus duplikasi data geoloc"
      ],
      "metadata": {
        "id": "_b3tA1Khu3J1"
      }
    },
    {
      "cell_type": "code",
      "source": [
        "geolocation_df.drop_duplicates(inplace=True)\n",
        "print(\"Jumlah duplikasi geoloc: \", geolocation_df.duplicated().sum())"
      ],
      "metadata": {
        "id": "jVnYpprE9Evz",
        "colab": {
          "base_uri": "https://localhost:8080/"
        },
        "outputId": "ce024d8a-6d48-4ec6-b730-a2be77d1d5b3"
      },
      "execution_count": 52,
      "outputs": [
        {
          "output_type": "stream",
          "name": "stdout",
          "text": [
            "Jumlah duplikasi geoloc:  0\n"
          ]
        }
      ]
    },
    {
      "cell_type": "markdown",
      "source": [
        "**Insight:**\n",
        "\n",
        "- xxx"
      ],
      "metadata": {
        "id": "Q_5ejIqckiSP"
      }
    },
    {
      "cell_type": "markdown",
      "metadata": {
        "id": "gp-Y6wU38DC1"
      },
      "source": [
        "## Exploratory Data Analysis (EDA)"
      ]
    },
    {
      "cell_type": "markdown",
      "metadata": {
        "id": "MW7WF2kr8DC1"
      },
      "source": [
        "### Explore ..."
      ]
    },
    {
      "cell_type": "markdown",
      "source": [
        "### Pertanyaan 1: Produk apa yang paling banyak dibeli oleh pelanggan, dan bagaimana tren penjualannya dari waktu ke waktu?"
      ],
      "metadata": {
        "id": "cKUN6FVRyYUv"
      }
    },
    {
      "cell_type": "code",
      "execution_count": 57,
      "metadata": {
        "id": "e9CQCZjk8DC2",
        "colab": {
          "base_uri": "https://localhost:8080/"
        },
        "outputId": "1881dd49-d151-40fe-ac46-a33ae7ef2308"
      },
      "outputs": [
        {
          "output_type": "stream",
          "name": "stdout",
          "text": [
            "Total jumlah produk unik yang terjual: 32951\n",
            "Total transaksi: 112650\n",
            "\n",
            "10 Produk Terlaris:\n",
            "                          product_id  total_orders   product_category_name\n",
            "0  aca2eb7d00ea1a7b8ebd4e68314663af           527        moveis_decoracao\n",
            "1  99a4788cb24856965c36a24e339b6058           488         cama_mesa_banho\n",
            "2  422879e10f46682990de24d770e7f83d           484      ferramentas_jardim\n",
            "3  389d119b48cf3043d311335e499d9c6b           392      ferramentas_jardim\n",
            "4  368c6c730842d78016ad823897a372db           388      ferramentas_jardim\n",
            "5  53759a2ecddad2bb87a079a1f1519f73           373      ferramentas_jardim\n",
            "6  d1c427060a0f73f6b889a5c7c61f2ac4           343  informatica_acessorios\n",
            "7  53b36df67ebb7c41585e8d54d6772e08           323      relogios_presentes\n",
            "8  154e7e31ebfa092203795c972e5804a6           281            beleza_saude\n",
            "9  3dd2a17168ec895c781a9191c1e95ad7           274  informatica_acessorios\n",
            "\n",
            "Rata-rata pesanan per bulan: 3978\n",
            "Total pesanan sepanjang waktu: 99441\n"
          ]
        }
      ],
      "source": [
        "# 1. Hitung jumlah pembelian per produk\n",
        "top_products = order_items_df[\"product_id\"].value_counts().reset_index()\n",
        "top_products.columns = [\"product_id\", \"total_orders\"]\n",
        "\n",
        "# 2. Hubungkan dengan kategori produk\n",
        "top_products = top_products.merge(products_df[[\"product_id\", \"product_category_name\"]], on=\"product_id\", how=\"left\")\n",
        "\n",
        "# 3. Ambil 10 produk terlaris\n",
        "top_10_products = top_products.head(10)\n",
        "\n",
        "# 4. Tampilkan hasil summary\n",
        "print(\"Total jumlah produk unik yang terjual:\", order_items_df[\"product_id\"].nunique())\n",
        "print(\"Total transaksi:\", len(order_items_df))\n",
        "print(\"\\n10 Produk Terlaris:\\n\", top_10_products)\n",
        "\n",
        "# 5. Cek tren penjualan dari waktu ke waktu\n",
        "orders_df[\"order_purchase_timestamp\"] = pd.to_datetime(orders_df[\"order_purchase_timestamp\"])\n",
        "orders_df[\"order_month\"] = orders_df[\"order_purchase_timestamp\"].dt.to_period(\"M\")\n",
        "monthly_sales = orders_df.groupby(\"order_month\").size().reset_index(name=\"total_orders\")\n",
        "\n",
        "# 6. Tampilkan summary tren\n",
        "print(\"\\nRata-rata pesanan per bulan:\", round(monthly_sales[\"total_orders\"].mean()))\n",
        "print(\"Total pesanan sepanjang waktu:\", monthly_sales[\"total_orders\"].sum())"
      ]
    },
    {
      "cell_type": "markdown",
      "source": [
        "### Pertanyaan 2 :Di wilayah mana saja pelanggan paling banyak melakukan pembelian?"
      ],
      "metadata": {
        "id": "SsJ6DHnBzsoO"
      }
    },
    {
      "cell_type": "code",
      "source": [
        "# 1. Hitung jumlah pesanan berdasarkan kota pelanggan\n",
        "top_cities = customers_df[\"customer_city\"].value_counts().reset_index()\n",
        "top_cities.columns = [\"customer_city\", \"total_orders\"]\n",
        "\n",
        "# 2. Ambil 10 kota dengan pembelian terbanyak\n",
        "top_10_cities = top_cities.head(10)\n",
        "\n",
        "# 3. Tampilkan hasil summary\n",
        "print(\"Total kota unik dengan pembelian:\", customers_df[\"customer_city\"].nunique())\n",
        "print(\"Total transaksi:\", len(customers_df))\n",
        "print(\"\\n10 Kota dengan Pembelian Terbanyak:\\n\", top_10_cities)"
      ],
      "metadata": {
        "colab": {
          "base_uri": "https://localhost:8080/"
        },
        "id": "bTjWh_Q7zsfh",
        "outputId": "f7cf0dc7-901c-42f6-a00e-30c13aa42bd8"
      },
      "execution_count": 58,
      "outputs": [
        {
          "output_type": "stream",
          "name": "stdout",
          "text": [
            "Total kota unik dengan pembelian: 4119\n",
            "Total transaksi: 99441\n",
            "\n",
            "10 Kota dengan Pembelian Terbanyak:\n",
            "            customer_city  total_orders\n",
            "0              sao paulo         15540\n",
            "1         rio de janeiro          6882\n",
            "2         belo horizonte          2773\n",
            "3               brasilia          2131\n",
            "4               curitiba          1521\n",
            "5               campinas          1444\n",
            "6           porto alegre          1379\n",
            "7               salvador          1245\n",
            "8              guarulhos          1189\n",
            "9  sao bernardo do campo           938\n"
          ]
        }
      ]
    },
    {
      "cell_type": "markdown",
      "source": [
        "### Pertanyaan 3: Bagaimana hubungan antara rating review pelanggan dan jumlah pesanan ulang (repeat orders)?"
      ],
      "metadata": {
        "id": "Nrhn-JVEzsUy"
      }
    },
    {
      "cell_type": "code",
      "source": [
        "# 1. Hitung jumlah pesanan ulang per pelanggan\n",
        "repeat_orders = customers_df[\"customer_unique_id\"].value_counts().reset_index()\n",
        "repeat_orders.columns = [\"customer_unique_id\", \"repeat_orders\"]\n",
        "\n",
        "# 2. Gabungkan dengan dataset order_reviews berdasarkan order_id\n",
        "orders_reviews = orders_df[[\"order_id\", \"customer_id\"]].merge(order_reviews_df[[\"order_id\", \"review_score\"]], on=\"order_id\")\n",
        "orders_reviews = orders_reviews.merge(customers_df[[\"customer_id\", \"customer_unique_id\"]], on=\"customer_id\")\n",
        "orders_reviews = orders_reviews.merge(repeat_orders, on=\"customer_unique_id\")\n",
        "\n",
        "# 3. Hitung statistik hubungan rating dan repeat orders\n",
        "review_repeat_summary = orders_reviews.groupby(\"review_score\")[\"repeat_orders\"].agg([\"count\", \"mean\", \"sum\"]).reset_index()\n",
        "\n",
        "# 4. Tampilkan summary\n",
        "print(\"Total jumlah ulasan:\", len(orders_reviews))\n",
        "print(\"\\nStatistik Repeat Orders berdasarkan Review Score:\\n\", review_repeat_summary)"
      ],
      "metadata": {
        "colab": {
          "base_uri": "https://localhost:8080/"
        },
        "id": "oP0YWyuhzsLc",
        "outputId": "c981d73a-1a6d-41ed-842e-9cebfd33c1cc"
      },
      "execution_count": 59,
      "outputs": [
        {
          "output_type": "stream",
          "name": "stdout",
          "text": [
            "Total jumlah ulasan: 99224\n",
            "\n",
            "Statistik Repeat Orders berdasarkan Review Score:\n",
            "    review_score  count      mean    sum\n",
            "0             1  11424  1.076418  12297\n",
            "1             2   3151  1.076166   3391\n",
            "2             3   8179  1.083507   8862\n",
            "3             4  19142  1.071309  20507\n",
            "4             5  57328  1.090863  62537\n"
          ]
        }
      ]
    },
    {
      "cell_type": "markdown",
      "source": [
        "### Pertanyaan 4 :Apakah keterlambatan pengiriman mempengaruhi rating ulasan pelanggan?"
      ],
      "metadata": {
        "id": "-hE0ea_bzr2s"
      }
    },
    {
      "cell_type": "code",
      "source": [
        "# 1. Hitung keterlambatan pengiriman\n",
        "orders_df[\"order_delivered_customer_date\"] = orders_df[\"order_delivered_customer_date\"].replace(\"Unknown\", pd.NaT)\n",
        "orders_df[\"order_delivered_customer_date\"] = pd.to_datetime(orders_df[\"order_delivered_customer_date\"])\n",
        "\n",
        "orders_df[\"order_estimated_delivery_date\"] = orders_df[\"order_estimated_delivery_date\"].replace(\"Unknown\", pd.NaT)\n",
        "orders_df[\"order_estimated_delivery_date\"] = pd.to_datetime(orders_df[\"order_estimated_delivery_date\"])\n",
        "\n",
        "orders_df[\"delay\"] = (orders_df[\"order_delivered_customer_date\"] > orders_df[\"order_estimated_delivery_date\"]).astype(int)\n",
        "\n",
        "# 2. Gabungkan dengan rating ulasan pelanggan\n",
        "delivery_reviews = orders_df[[\"order_id\", \"delay\"]].merge(order_reviews_df[[\"order_id\", \"review_score\"]], on=\"order_id\")\n",
        "\n",
        "# 3. Hitung statistik keterlambatan vs rating\n",
        "delay_review_summary = delivery_reviews.groupby(\"delay\")[\"review_score\"].agg([\"count\", \"mean\", \"std\"]).reset_index()\n",
        "\n",
        "# 4. Tampilkan summary\n",
        "print(\"Total jumlah pesanan:\", len(orders_df))\n",
        "print(\"\\nJumlah pesanan yang terlambat dikirim:\", orders_df[\"delay\"].sum())\n",
        "print(\"\\nStatistik Rating Berdasarkan Status Keterlambatan:\\n\", delay_review_summary)"
      ],
      "metadata": {
        "colab": {
          "base_uri": "https://localhost:8080/"
        },
        "id": "NDJm8mHKzrgR",
        "outputId": "f8287f3c-b140-4ba0-d48a-6429898063f6"
      },
      "execution_count": 61,
      "outputs": [
        {
          "output_type": "stream",
          "name": "stderr",
          "text": [
            "<ipython-input-61-e543e992160f>:2: FutureWarning: Downcasting behavior in `replace` is deprecated and will be removed in a future version. To retain the old behavior, explicitly call `result.infer_objects(copy=False)`. To opt-in to the future behavior, set `pd.set_option('future.no_silent_downcasting', True)`\n",
            "  orders_df[\"order_delivered_customer_date\"] = orders_df[\"order_delivered_customer_date\"].replace(\"Unknown\", pd.NaT)\n"
          ]
        },
        {
          "output_type": "stream",
          "name": "stdout",
          "text": [
            "Total jumlah pesanan: 99441\n",
            "\n",
            "Jumlah pesanan yang terlambat dikirim: 7827\n",
            "\n",
            "Statistik Rating Berdasarkan Status Keterlambatan:\n",
            "    delay  count      mean       std\n",
            "0      0  91523  4.214307  1.235597\n",
            "1      1   7701  2.566550  1.658240\n"
          ]
        }
      ]
    },
    {
      "cell_type": "markdown",
      "metadata": {
        "id": "zsyZjqak8DC2"
      },
      "source": [
        "## Visualization & Explanatory Analysis"
      ]
    },
    {
      "cell_type": "markdown",
      "metadata": {
        "id": "HZxOiQ6n8DC2"
      },
      "source": [
        "### Pertanyaan 1: Produk apa yang paling banyak dibeli oleh pelanggan, dan bagaimana tren penjualannya dari waktu ke waktu?"
      ]
    },
    {
      "cell_type": "code",
      "execution_count": 64,
      "metadata": {
        "id": "1swJUdAD8DC2",
        "colab": {
          "base_uri": "https://localhost:8080/",
          "height": 1000
        },
        "outputId": "5897d777-907f-4a4f-abf7-1683454b6075"
      },
      "outputs": [
        {
          "output_type": "stream",
          "name": "stderr",
          "text": [
            "<ipython-input-64-9212ec12a19f>:3: FutureWarning: \n",
            "\n",
            "Passing `palette` without assigning `hue` is deprecated and will be removed in v0.14.0. Assign the `y` variable to `hue` and set `legend=False` for the same effect.\n",
            "\n",
            "  sns.barplot(data=top_10_products, x=\"total_orders\", y=\"product_category_name\", palette=\"Blues_r\")\n"
          ]
        },
        {
          "output_type": "display_data",
          "data": {
            "text/plain": [
              "<Figure size 1200x600 with 1 Axes>"
            ],
            "image/png": "[encoded data removed]"
          },
          "metadata": {}
        },
        {
          "output_type": "display_data",
          "data": {
            "text/plain": [
              "<Figure size 1200x600 with 1 Axes>"
            ],
            "image/png": "[encoded data removed]"
          },
          "metadata": {}
        }
      ],
      "source": [
        "# Visualisasi 10 Produk Terlaris\n",
        "plt.figure(figsize=(12, 6))\n",
        "sns.barplot(data=top_10_products, x=\"total_orders\", y=\"product_category_name\", palette=\"Blues_r\")\n",
        "plt.xlabel(\"Total Pembelian\")\n",
        "plt.ylabel(\"Kategori Produk\")\n",
        "plt.title(\"10 Produk Terlaris\")\n",
        "plt.show()\n",
        "\n",
        "# Visualisasi Tren Penjualan dari Waktu ke Waktu\n",
        "plt.figure(figsize=(12, 6))\n",
        "monthly_sales['order_month'] = monthly_sales['order_month'].dt.to_timestamp()\n",
        "sns.lineplot(data=monthly_sales, x=\"order_month\", y=\"total_orders\", marker=\"o\", color=\"blue\")\n",
        "plt.xlabel(\"Bulan\")\n",
        "plt.ylabel(\"Jumlah Pesanan\")\n",
        "plt.title(\"Tren Penjualan Bulanan\")\n",
        "plt.xticks(rotation=45)\n",
        "plt.show()"
      ]
    },
    {
      "cell_type": "markdown",
      "metadata": {
        "id": "DgHI7CiU8DC2"
      },
      "source": [
        "### Pertanyaan 2 :Di wilayah mana saja pelanggan paling banyak melakukan pembelian?"
      ]
    },
    {
      "cell_type": "code",
      "execution_count": 65,
      "metadata": {
        "id": "Go0lCsvO8DC2",
        "colab": {
          "base_uri": "https://localhost:8080/",
          "height": 654
        },
        "outputId": "4fd1f1c7-199e-48d4-9642-f7f2322bd81a"
      },
      "outputs": [
        {
          "output_type": "stream",
          "name": "stderr",
          "text": [
            "<ipython-input-65-c48af710cd81>:3: FutureWarning: \n",
            "\n",
            "Passing `palette` without assigning `hue` is deprecated and will be removed in v0.14.0. Assign the `y` variable to `hue` and set `legend=False` for the same effect.\n",
            "\n",
            "  sns.barplot(data=top_10_cities, x=\"total_orders\", y=\"customer_city\", palette=\"Greens_r\")\n"
          ]
        },
        {
          "output_type": "display_data",
          "data": {
            "text/plain": [
              "<Figure size 1200x600 with 1 Axes>"
            ],
            "image/png": "[encoded data removed]"
          },
          "metadata": {}
        }
      ],
      "source": [
        "# Visualisasi 10 Kota dengan Pembelian Terbanyak\n",
        "plt.figure(figsize=(12, 6))\n",
        "sns.barplot(data=top_10_cities, x=\"total_orders\", y=\"customer_city\", palette=\"Greens_r\")\n",
        "plt.xlabel(\"Total Pembelian\")\n",
        "plt.ylabel(\"Kota\")\n",
        "plt.title(\"10 Kota dengan Pembelian Terbanyak\")\n",
        "plt.show()"
      ]
    },
    {
      "cell_type": "markdown",
      "metadata": {
        "id": "pPVHbqsx0659"
      },
      "source": [
        "### Pertanyaan 3: Bagaimana hubungan antara rating review pelanggan dan jumlah pesanan ulang (repeat orders)?"
      ]
    },
    {
      "cell_type": "code",
      "source": [
        "# Visualisasi Rating vs Repeat Orders\n",
        "plt.figure(figsize=(12, 6))\n",
        "sns.barplot(data=review_repeat_summary, x=\"review_score\", y=\"mean\", palette=\"Oranges_r\")\n",
        "plt.xlabel(\"Review Score\")\n",
        "plt.ylabel(\"Rata-rata Repeat Orders\")\n",
        "plt.title(\"Hubungan Rating dengan Repeat Orders\")\n",
        "plt.show()"
      ],
      "metadata": {
        "colab": {
          "base_uri": "https://localhost:8080/",
          "height": 654
        },
        "id": "nc3zKVHx05aw",
        "outputId": "2af0db25-1491-42f1-c841-4ee0819cbdf6"
      },
      "execution_count": 66,
      "outputs": [
        {
          "output_type": "stream",
          "name": "stderr",
          "text": [
            "<ipython-input-66-b9defcf2634c>:3: FutureWarning: \n",
            "\n",
            "Passing `palette` without assigning `hue` is deprecated and will be removed in v0.14.0. Assign the `x` variable to `hue` and set `legend=False` for the same effect.\n",
            "\n",
            "  sns.barplot(data=review_repeat_summary, x=\"review_score\", y=\"mean\", palette=\"Oranges_r\")\n"
          ]
        },
        {
          "output_type": "display_data",
          "data": {
            "text/plain": [
              "<Figure size 1200x600 with 1 Axes>"
            ],
            "image/png": "[encoded data removed]"
          },
          "metadata": {}
        }
      ]
    },
    {
      "cell_type": "markdown",
      "metadata": {
        "id": "xxBg2HKk08BH"
      },
      "source": [
        "### Pertanyaan 4 :Apakah keterlambatan pengiriman mempengaruhi rating ulasan pelanggan?"
      ]
    },
    {
      "cell_type": "code",
      "source": [
        "# Line Chart: Keterlambatan vs Rata-rata Rating Review\n",
        "delay_rating = delivery_reviews.groupby(\"delay\")[\"review_score\"].mean().reset_index()\n",
        "\n",
        "plt.figure(figsize=(8, 5))\n",
        "sns.lineplot(data=delay_rating, x=\"delay\", y=\"review_score\", marker=\"o\", color=\"red\")\n",
        "plt.xlabel(\"Keterlambatan (0: Tepat Waktu, 1: Terlambat)\")\n",
        "plt.ylabel(\"Rata-rata Rating Review\")\n",
        "plt.title(\"Pengaruh Keterlambatan Pengiriman terhadap Rating Ulasan\")\n",
        "plt.xticks(ticks=[0, 1], labels=[\"Tepat Waktu\", \"Terlambat\"])\n",
        "plt.grid(True)\n",
        "plt.show()"
      ],
      "metadata": {
        "colab": {
          "base_uri": "https://localhost:8080/",
          "height": 487
        },
        "id": "Buj9FGmZ05DX",
        "outputId": "26eb9146-9bcf-4f6a-cf1b-cc9bd50bd6b6"
      },
      "execution_count": 68,
      "outputs": [
        {
          "output_type": "display_data",
          "data": {
            "text/plain": [
              "<Figure size 800x500 with 1 Axes>"
            ],
            "image/png": "[encoded data removed]"
          },
          "metadata": {}
        }
      ]
    },
    {
      "cell_type": "markdown",
      "source": [
        "**Insight:**\n",
        "\n",
        "*Pertanyaan 1*:\n",
        "- Grafik produk terlaris menunjukkan kategori produk yang paling banyak dibeli oleh pelanggan. Dari visualisasi tersebut, kategori \"moveis_decoracao\" (furniture dan dekorasi) menjadi produk yang paling laris, diikuti oleh \"cama_mesa_banho\" (peralatan tempat tidur dan kamar mandi) serta \"ferramentas_jardim\" (perkakas taman). Hal ini menunjukkan bahwa pelanggan memiliki minat yang tinggi terhadap produk-produk rumah tangga dan dekorasi Kategori seperti \"informatica_acessorios\" (aksesoris komputer), \"relogios_presentes\" (jam tangan & hadiah), dan \"beleza_saude\" (kecantikan & kesehatan) juga cukup diminati, tetapi jumlah pembeliannya lebih sedikit dibandingkan dengan tiga kategori teratas.\n",
        "- Grafik  jumlah pesanan dari waktu ke waktu menunjukkan pola pertumbuhan dan perubahan tren pembelian. Dari grafik, terlihat bahwa tren penjualan mengalami peningkatan signifikan mulai dari awal 2017 hingga pertengahan 2018. Puncak penjualan terjadi sekitar akhir 2017 hingga awal 2018, yang mungkin disebabkan oleh musim liburan atau promosi tertentu. Setelah puncak tersebut, jumlah pesanan cenderung stabil tetapi mengalami sedikit penurunan menjelang pertengahan 2018. Penurunan tajam di akhir grafik kemungkinan disebabkan oleh kurangnya data yang tersedia untuk bulan-bulan terakhir dalam dataset. Secara keseluruhan, pola ini menunjukkan adanya musim puncak penjualan dan tren pertumbuhan yang positif dalam jangka waktu tertentu.\n",
        "\n",
        "*Pertanyaan 2*:\n",
        "- Grafik menunjukkan 10 kota dengan jumlah pembelian terbanyak dalam dataset e-commerce. Sao Paulo mendominasi dengan selisih yang signifikan dibandingkan kota lain, mencerminkan perannya sebagai pusat ekonomi terbesar di Brasil dengan aktivitas e-commerce yang tinggi. Di posisi kedua, Rio de Janeiro juga memiliki jumlah pembelian besar, meskipun masih jauh di bawah Sao Paulo. Kota-kota lain seperti Belo Horizonte, Brasilia, Curitiba, Campinas, Porto Alegre, Salvador, Guarulhos, dan Sao Bernardo do Campo memiliki jumlah pembelian yang lebih rendah tetapi tetap masuk dalam daftar 10 besar.\n",
        "\n",
        "- Dari tren yang terlihat, dominasi kota-kota besar seperti Sao Paulo dan Rio de Janeiro menunjukkan bahwa e-commerce lebih berkembang di pusat metropolitan dibandingkan daerah kecil. Kota seperti Belo Horizonte dan Brasilia juga menunjukkan aktivitas belanja online yang cukup tinggi, kemungkinan karena faktor populasi dan daya beli masyarakat. Sebaliknya, kota-kota dengan jumlah pembelian lebih sedikit mungkin memiliki populasi yang lebih kecil atau infrastruktur logistik yang belum sebaik kota-kota besar.\n",
        "\n",
        "- Dari perspektif bisnis, data ini dapat dimanfaatkan untuk menentukan strategi pemasaran dan ekspansi. Perusahaan dapat lebih fokus pada kota dengan permintaan tinggi seperti Sao Paulo dan Rio de Janeiro untuk meningkatkan penjualan. Selain itu, strategi pemasaran yang lebih agresif bisa diterapkan di kota-kota dengan pembelian sedang untuk meningkatkan adopsi e-commerce di wilayah tersebut. Selain itu, perusahaan juga bisa menggunakan data ini untuk mengoptimalkan rantai pasok dan distribusi, memastikan pengiriman yang lebih efisien di wilayah dengan volume transaksi tinggi.\n",
        "\n",
        "*Pertanyaan 3*:\n",
        "- Grafik hubungan antara rating review menunjukkan rata-rata repeat orders dalam e-commerce. Dari grafik, terlihat bahwa rata-rata repeat orders relatif stabil di semua tingkat rating, dengan perbedaan yang sangat kecil antara rating 1 hingga 5. Hal ini menunjukkan bahwa rating review dari pelanggan tidak memiliki dampak signifikan terhadap kecenderungan mereka untuk melakukan repeat order.\n",
        "\n",
        "- Biasanya, kita mengharapkan bahwa pelanggan yang memberikan rating tinggi (misalnya 4 atau 5) akan lebih cenderung melakukan repeat orders dibandingkan pelanggan yang memberikan rating rendah (1 atau 2). Namun, data ini menunjukkan pola yang berbeda, di mana pelanggan dengan rating rendah juga memiliki rata-rata repeat orders yang hampir sama dengan pelanggan dengan rating tinggi.\n",
        "\n",
        "*Pertanyaan 4*:\n",
        "\n",
        "- Grafik menunjukkan pengaruh keterlambatan pengiriman terhadap rata-rata rating ulasan pelanggan. Terlihat bahwa pesanan yang dikirim tepat waktu memiliki rata-rata rating review sekitar 4.25, sedangkan pesanan yang mengalami keterlambatan memiliki rata-rata rating yang jauh lebih rendah, sekitar 2.5.\n",
        "\n",
        "- Dari hasil ini, dapat disimpulkan bahwa keterlambatan pengiriman berpengaruh signifikan terhadap kepuasan pelanggan, yang tercermin dalam penurunan rating ulasan. Pelanggan yang menerima pesanan tepat waktu cenderung memberikan ulasan lebih positif, sedangkan mereka yang mengalami keterlambatan pengiriman cenderung memberikan ulasan lebih negatif."
      ],
      "metadata": {
        "id": "_0-36BDLklRg"
      }
    },
    {
      "cell_type": "markdown",
      "metadata": {
        "id": "_WeHlCeX8DC2"
      },
      "source": [
        "## Conclusion"
      ]
    },
    {
      "cell_type": "markdown",
      "metadata": {
        "id": "ZTcyR48Y8DC2"
      },
      "source": [
        "Pertanyaan 1:\n",
        "\n",
        "Berdasarkan analisis kategori produk terlaris, dapat disimpulkan bahwa pelanggan cenderung membeli produk rumah tangga dan dekorasi, dengan kategori **furniture & dekorasi, peralatan tempat tidur & kamar mandi, serta perkakas taman** menjadi yang paling diminati. Hal ini menunjukkan adanya permintaan tinggi untuk produk-produk yang berkaitan dengan kebutuhan rumah. Selain itu, tren jumlah pesanan dari waktu ke waktu menunjukkan **peningkatan signifikan dari awal 2017 hingga puncaknya di akhir 2017 hingga awal 2018**, yang kemungkinan besar dipengaruhi oleh musim liburan atau promosi. Setelah periode tersebut, jumlah pesanan cenderung stabil dengan sedikit penurunan menjelang pertengahan 2018.\n",
        "\n",
        "Pertanyaan 2:\n",
        "\n",
        "Distribusi jumlah pembelian berdasarkan kota menunjukkan bahwa **Sao Paulo** mendominasi e-commerce dengan selisih yang signifikan dibandingkan kota lain, disusul oleh R**io de Janeiro **dan beberapa kota besar lainnya seperti **Belo Horizonte, Brasilia, dan Curitiba**. Hal ini mencerminkan bahwa e-commerce lebih berkembang di kota metropolitan dengan infrastruktur dan daya beli yang lebih tinggi. Dari perspektif bisnis, pemetaan ini dapat digunakan untuk mengarahkan strategi pemasaran dan ekspansi, dengan fokus pada kota-kota yang memiliki permintaan tinggi serta optimalisasi rantai pasok untuk meningkatkan efisiensi pengiriman.\n",
        "\n",
        "Pertanyaan 3:\n",
        "\n",
        "Hasil analisis menunjukkan bahwa tidak ada korelasi yang signifikan antara **rating review pelanggan dengan repeat orders**. Rata-rata repeat orders relatif stabil di semua tingkat rating, yang menunjukkan bahwa pelanggan tetap melakukan pembelian ulang meskipun mereka memberikan rating rendah. Ini bisa mengindikasikan bahwa faktor lain, seperti harga, kualitas produk, atau kebutuhan mendesak, lebih berpengaruh terhadap keputusan pelanggan untuk melakukan repeat orders dibandingkan rating yang mereka berikan pada pembelian sebelumnya.\n",
        "\n",
        "Pertanyaan 4:\n",
        "\n",
        "Keterlambatan pengiriman terbukti memiliki dampak signifikan terhadap kepuasan pelanggan, sebagaimana ditunjukkan oleh penurunan drastis rating ulasan ketika pesanan mengalami keterlambatan. Pesanan yang dikirim **tepat waktu** mendapatkan rata-rata rating** 4.25**, sedangkan pesanan **terlambat** hanya mendapatkan rating sekitar **2.5**. Hal ini menunjukkan bahwa pelanggan sangat menghargai ketepatan waktu dalam pengiriman, dan keterlambatan dapat menyebabkan ketidakpuasan yang cukup besar. Oleh karena itu, bagi bisnis e-commerce, memastikan pengiriman tepat waktu adalah faktor penting dalam mempertahankan kepuasan dan loyalitas pelanggan.\n"
      ]
    }
  ],
  "metadata": {
    "kernelspec": {
      "display_name": "Python 3",
      "language": "python",
      "name": "python3"
    },
    "language_info": {
      "name": "python",
      "version": "3.8.0 (tags/v3.8.0:fa919fd, Oct 14 2019, 19:21:23) [MSC v.1916 32 bit (Intel)]"
    },
    "orig_nbformat": 4,
    "vscode": {
      "interpreter": {
        "hash": "972b3bf27e332e87b5379f2791f6ef9dfc79c71018c370b0d7423235e20fe4d7"
      }
    },
    "colab": {
      "provenance": []
    }
  },
  "nbformat": 4,
  "nbformat_minor": 0
}